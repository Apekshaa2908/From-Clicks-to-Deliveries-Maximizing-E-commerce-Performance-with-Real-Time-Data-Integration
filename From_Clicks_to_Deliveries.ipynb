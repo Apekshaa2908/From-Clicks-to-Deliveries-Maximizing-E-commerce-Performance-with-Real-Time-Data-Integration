{
  "nbformat": 4,
  "nbformat_minor": 0,
  "metadata": {
    "colab": {
      "provenance": [],
      "authorship_tag": "ABX9TyOtsfmEtt0PxDIYM3OehyJx",
      "include_colab_link": true
    },
    "kernelspec": {
      "name": "python3",
      "display_name": "Python 3"
    },
    "language_info": {
      "name": "python"
    }
  },
  "cells": [
    {
      "cell_type": "markdown",
      "metadata": {
        "id": "view-in-github",
        "colab_type": "text"
      },
      "source": [
        "<a href=\"https://colab.research.google.com/github/Apekshaa2908/From-Clicks-to-Deliveries-Maximizing-E-commerce-Performance-with-Real-Time-Data-Integration/blob/main/From_Clicks_to_Deliveries.ipynb\" target=\"_parent\"><img src=\"https://colab.research.google.com/assets/colab-badge.svg\" alt=\"Open In Colab\"/></a>"
      ]
    },
    {
      "cell_type": "code",
      "source": [
        "%%writefile data_generation.py\n",
        "import random\n",
        "\n",
        "# Function to generate random clickstream data\n",
        "def generate_clickstream_data():\n",
        "    items = [\n",
        "        {\"Item ID\": \"ITEM001\", \"Item Name\": \"Mobile Phone\", \"Click Count\": random.randint(100, 1000)},\n",
        "        {\"Item ID\": \"ITEM002\", \"Item Name\": \"Laptop\", \"Click Count\": random.randint(50, 500)},\n",
        "        {\"Item ID\": \"ITEM003\", \"Item Name\": \"Camera\", \"Click Count\": random.randint(30, 300)},\n",
        "    ]\n",
        "    return items\n",
        "\n",
        "# Function to generate random truck telemetry data\n",
        "def generate_truck_data(num_trucks=3):\n",
        "    trucks = []\n",
        "    for i in range(num_trucks):\n",
        "        truck = {\n",
        "            \"truck_id\": f\"TRK{i+1:03d}\",\n",
        "            \"gps_location\": {\n",
        "                \"latitude\": random.uniform(34.0, 41.0),\n",
        "                \"longitude\": random.uniform(-118.0, -74.0),\n",
        "                \"altitude\": round(random.uniform(10.0, 610.0), 1),\n",
        "                \"speed\": round(random.uniform(40.0, 70.0), 1)\n",
        "            },\n",
        "            \"vehicle_speed\": round(random.uniform(40.0, 70.0), 1),\n",
        "            \"engine_diagnostics\": {\n",
        "                \"engine_rpm\": random.randint(2000, 3000),\n",
        "                \"fuel_level\": round(random.uniform(50.0, 100.0), 1),\n",
        "                \"temperature\": round(random.uniform(80.0, 100.0), 1),\n",
        "                \"oil_pressure\": round(random.uniform(30.0, 50.0), 1),\n",
        "                \"battery_voltage\": round(random.uniform(13.5, 14.0), 1)\n",
        "            },\n",
        "            \"odometer_reading\": round(random.uniform(80000.0, 130000.0), 1),\n",
        "            \"fuel_consumption\": round(random.uniform(10.0, 20.0), 1),\n",
        "            \"vehicle_health_and_maintenance\": {\n",
        "                \"brake_status\": random.choice([\"Good\", \"Needs Inspection\"]),\n",
        "                \"tire_pressure\": {\n",
        "                    \"front_left\": round(random.uniform(30.0, 35.0), 1),\n",
        "                    \"front_right\": round(random.uniform(30.0, 35.0), 1),\n",
        "                    \"rear_left\": round(random.uniform(34.0, 36.0), 1),\n",
        "                    \"rear_right\": round(random.uniform(34.0, 36.0), 1)\n",
        "                },\n",
        "                \"transmission_status\": \"Operational\"\n",
        "            },\n",
        "            \"environmental_conditions\": {\n",
        "                \"temperature\": round(random.uniform(18.0, 30.0), 1),\n",
        "                \"humidity\": round(random.uniform(20.0, 70.0), 1),\n",
        "                \"atmospheric_pressure\": round(random.uniform(1008.0, 1013.25), 2)\n",
        "            }\n",
        "        }\n",
        "        trucks.append(truck)\n",
        "    return trucks\n",
        "\n",
        "# Example usage\n",
        "if __name__ == \"__main__\":\n",
        "    clickstream_data = generate_clickstream_data()\n",
        "    truck_data = generate_truck_data()\n",
        "\n",
        "    print(\"Clickstream Data:\", clickstream_data)\n",
        "    print(\"Truck Telemetry Data:\", truck_data)\n"
      ],
      "metadata": {
        "id": "sm6PNZpxoJjI",
        "colab": {
          "base_uri": "https://localhost:8080/"
        },
        "outputId": "b9829e2a-7fb1-4ea5-ebda-c203584211af"
      },
      "execution_count": 22,
      "outputs": [
        {
          "output_type": "stream",
          "name": "stdout",
          "text": [
            "Overwriting data_generation.py\n"
          ]
        }
      ]
    },
    {
      "cell_type": "code",
      "source": [
        "# 2. API Creation Purpose\n",
        "%%writefile api.py\n",
        "from flask import Flask, jsonify\n",
        "import boto3\n",
        "from boto3.dynamodb.conditions import Key\n",
        "\n",
        "app = Flask(__name__)\n",
        "\n",
        "# Initialize DynamoDB client\n",
        "dynamodb = boto3.resource('dynamodb', region_name='ap-southeast-2',\n",
        "    aws_access_key_id='id',\n",
        "    aws_secret_access_key='key')\n",
        "\n",
        "# Truck telemetry data from DynamoDB\n",
        "@app.route('/api/trucks', methods=['GET'])\n",
        "def get_truck_data():\n",
        "    table = dynamodb.Table('TruckTelemetryData')\n",
        "    response = table.scan()  # Or use more efficient querying based on specific fields like timestamp, truck_id, etc.\n",
        "    return jsonify({\"trucks\": response['Items']})\n",
        "\n",
        "# Clickstream data from DynamoDB\n",
        "@app.route('/api/clickstream', methods=['GET'])\n",
        "def get_clickstream_data():\n",
        "    table = dynamodb.Table('ClickstreamDataStream')\n",
        "    response = table.scan()\n",
        "    return jsonify({\"clickstream\": response['Items']})\n",
        "\n",
        "if __name__ == '__main__':\n",
        "    app.run(debug=True)\n",
        "\n"
      ],
      "metadata": {
        "colab": {
          "base_uri": "https://localhost:8080/"
        },
        "id": "b6kxXUgkkizs",
        "outputId": "328348c8-f15b-4d3a-867c-7219ad311ad8"
      },
      "execution_count": 9,
      "outputs": [
        {
          "output_type": "stream",
          "name": "stdout",
          "text": [
            "Overwriting api.py\n"
          ]
        }
      ]
    },
    {
      "cell_type": "code",
      "source": [
        "# 3. Data Streaming with AWS Kinesis Purpose\n",
        "%%writefile kinesis_streaming.py\n",
        "import boto3\n",
        "import json\n",
        "import time\n",
        "from data_generation import generate_clickstream_data, generate_truck_data\n",
        "\n",
        "# Initialize Kinesis client\n",
        "kinesis = boto3.client('kinesis',\n",
        "                       region_name = 'ap-southeast-2'\n",
        "                        aws_access_key_id='id',\n",
        "                        aws_secret_access_key='key')\n",
        "\n",
        "def stream_clickstream_data():\n",
        "    while True:\n",
        "        clickstream_data = generate_clickstream_data()\n",
        "        for item in clickstream_data:\n",
        "            kinesis.put_record(\n",
        "                StreamName=\"ClickstreamDataStream\",\n",
        "                Data=json.dumps(item),\n",
        "                PartitionKey=item['Item ID']\n",
        "            )\n",
        "        time.sleep(1)\n",
        "\n",
        "def stream_truck_data():\n",
        "    while True:\n",
        "        truck_data = generate_truck_data()\n",
        "        for truck in truck_data:\n",
        "            kinesis.put_record(\n",
        "                StreamName=\"TruckDataStream\",\n",
        "                Data=json.dumps(truck),\n",
        "                PartitionKey=truck['truck_id']\n",
        "            )\n",
        "        time.sleep(60)\n"
      ],
      "metadata": {
        "id": "NCA1jPLKrH3v",
        "colab": {
          "base_uri": "https://localhost:8080/"
        },
        "outputId": "2ca04f0e-e643-4d8a-f1d6-3437aacb6e56"
      },
      "execution_count": 12,
      "outputs": [
        {
          "output_type": "stream",
          "name": "stdout",
          "text": [
            "Overwriting kinesis_streaming.py\n"
          ]
        }
      ]
    },
    {
      "cell_type": "code",
      "source": [
        "# 4. Data Processing with AWS Lambda Purpose:\n",
        "## Clickstream\n",
        "import json\n",
        "import base64\n",
        "\n",
        "def lambda_handler(event, context):\n",
        "    for record in event['Records']:\n",
        "        payload = json.loads(base64.b64decode(record['kinesis']['data']))\n",
        "        # Process clickstream data\n",
        "        print(\"Processed clickstream data:\", payload)\n",
        "\n",
        "    return {\n",
        "        'statusCode': 200,\n",
        "        'body': json.dumps('Clickstream Processing Complete')\n",
        "    }\n",
        "\n",
        "## Truckstream\n",
        "import json\n",
        "import base64\n",
        "\n",
        "def lambda_handler(event, context):\n",
        "    for record in event['Records']:\n",
        "        payload = json.loads(base64.b64decode(record['kinesis']['data']))\n",
        "        # Process truck data\n",
        "        print(\"Processed truck data:\", payload)\n",
        "\n",
        "    return {\n",
        "        'statusCode': 200,\n",
        "        'body': json.dumps('Truck Data Processing Complete')\n",
        "    }\n"
      ],
      "metadata": {
        "id": "DVpNgKItv_GA"
      },
      "execution_count": 13,
      "outputs": []
    },
    {
      "cell_type": "code",
      "source": [
        "# 5. Data Storage with Snowflake/DynamoDB Purpose:\n",
        "import boto3\n",
        "import time\n",
        "from decimal import Decimal\n",
        "from data_generation import generate_truck_data\n",
        "\n",
        "# Initialize DynamoDB client\n",
        "dynamodb = boto3.resource('dynamodb',\n",
        "    region_name = 'ap-southeast-2',\n",
        "aws_access_key_id='id',\n",
        "aws_secret_access_key='key')\n",
        "\n",
        "# Create table (One-time setup)\n",
        "def create_table():\n",
        "    table = dynamodb.create_table(\n",
        "        TableName='TruckTelemetryData',\n",
        "        KeySchema=[\n",
        "            {'AttributeName': 'truck_id', 'KeyType': 'HASH'},\n",
        "            {'AttributeName': 'timestamp', 'KeyType': 'RANGE'}\n",
        "        ],\n",
        "        AttributeDefinitions=[\n",
        "            {'AttributeName': 'truck_id', 'AttributeType': 'S'},\n",
        "            {'AttributeName': 'timestamp', 'AttributeType': 'N'}\n",
        "        ],\n",
        "        ProvisionedThroughput={'ReadCapacityUnits': 5, 'WriteCapacityUnits': 5}\n",
        "    )\n",
        "    table.wait_until_exists()  # Wait until the table is created\n",
        "    return table\n",
        "\n",
        "# Utility function to convert float to Decimal\n",
        "def float_to_decimal(value):\n",
        "    if isinstance(value, float):\n",
        "        return Decimal(str(value))\n",
        "    return Decimal(value)\n",
        "\n",
        "# Insert data with SCD Type 2 logic\n",
        "def store_truck_data(truck_data):\n",
        "    table = dynamodb.Table('TruckTelemetryData')\n",
        "    for truck in truck_data:\n",
        "        table.put_item(Item={\n",
        "            'truck_id': truck['truck_id'],\n",
        "            'timestamp': float_to_decimal(time.time()),  # Convert timestamp to Decimal\n",
        "            'gps_location': {\n",
        "                'latitude': float_to_decimal(truck['gps_location']['latitude']),\n",
        "                'longitude': float_to_decimal(truck['gps_location']['longitude']),\n",
        "                'altitude': float_to_decimal(truck['gps_location']['altitude']),\n",
        "                'speed': float_to_decimal(truck['gps_location']['speed'])\n",
        "            },\n",
        "            'vehicle_speed': float_to_decimal(truck['vehicle_speed']),\n",
        "            'engine_diagnostics': {\n",
        "                'engine_rpm': float_to_decimal(truck['engine_diagnostics']['engine_rpm']),\n",
        "                'fuel_level': float_to_decimal(truck['engine_diagnostics']['fuel_level']),\n",
        "                'temperature': float_to_decimal(truck['engine_diagnostics']['temperature']),\n",
        "                'oil_pressure': float_to_decimal(truck['engine_diagnostics']['oil_pressure']),\n",
        "                'battery_voltage': float_to_decimal(truck['engine_diagnostics']['battery_voltage'])\n",
        "            },\n",
        "            'odometer_reading': float_to_decimal(truck['odometer_reading']),\n",
        "            'fuel_consumption': float_to_decimal(truck['fuel_consumption']),\n",
        "            'vehicle_health_and_maintenance': {\n",
        "                'brake_status': truck['vehicle_health_and_maintenance']['brake_status'],\n",
        "                'tire_pressure': {\n",
        "                    'front_left': float_to_decimal(truck['vehicle_health_and_maintenance']['tire_pressure']['front_left']),\n",
        "                    'front_right': float_to_decimal(truck['vehicle_health_and_maintenance']['tire_pressure']['front_right']),\n",
        "                    'rear_left': float_to_decimal(truck['vehicle_health_and_maintenance']['tire_pressure']['rear_left']),\n",
        "                    'rear_right': float_to_decimal(truck['vehicle_health_and_maintenance']['tire_pressure']['rear_right'])\n",
        "                },\n",
        "                'transmission_status': truck['vehicle_health_and_maintenance']['transmission_status']\n",
        "            },\n",
        "            'environmental_conditions': {\n",
        "                'temperature': float_to_decimal(truck['environmental_conditions']['temperature']),\n",
        "                'humidity': float_to_decimal(truck['environmental_conditions']['humidity']),\n",
        "                'atmospheric_pressure': float_to_decimal(truck['environmental_conditions']['atmospheric_pressure'])\n",
        "            }\n",
        "        })\n",
        "\n",
        "# Example usage\n",
        "if __name__ == \"__main__\":\n",
        "    create_table()\n",
        "    store_truck_data(generate_truck_data())"
      ],
      "metadata": {
        "id": "LFBS-C3YiJVK"
      },
      "execution_count": null,
      "outputs": []
    },
    {
      "cell_type": "code",
      "source": [
        "# 6. Streamlit Presentation Purpose:\n",
        "%%writefile app.py\n",
        "import streamlit as st\n",
        "import boto3\n",
        "import time\n",
        "\n",
        "# Initialize DynamoDB client with AWS credentials\n",
        "region_name = 'ap-southeast-2'\n",
        "aws_access_key_id='id'\n",
        "aws_secret_access_key='key'\n",
        "\n",
        "\n",
        "dynamodb = boto3.resource(\n",
        "    'dynamodb',\n",
        "    aws_access_key_id=aws_access_key_id,\n",
        "    aws_secret_access_key=aws_secret_access_key,\n",
        "    region_name=region_name\n",
        ")\n",
        "\n",
        "# Get reference to the DynamoDB table\n",
        "table = dynamodb.Table('TruckTelemetryData')\n",
        "\n",
        "# Streamlit UI components\n",
        "st.title('Truck Telemetry Data Dashboard')\n",
        "\n",
        "# Input field for Truck ID\n",
        "truck_id = st.text_input('Enter Truck ID to view telemetry data:')\n",
        "\n",
        "# Button to fetch telemetry data\n",
        "if st.button('Fetch Data'):\n",
        "    if truck_id:\n",
        "        # Query DynamoDB table to fetch telemetry data for the given Truck ID\n",
        "        response = table.query(\n",
        "            KeyConditionExpression=boto3.dynamodb.conditions.Key('truck_id').eq(truck_id)\n",
        "        )\n",
        "\n",
        "        # Display telemetry data if found\n",
        "        if response['Items']:\n",
        "            st.write(f\"Telemetry Data for Truck ID: {truck_id}\")\n",
        "\n",
        "            # Extract and display data\n",
        "            for item in response['Items']:\n",
        "                st.json(item)\n",
        "        else:\n",
        "            st.warning(f\"No data found for Truck ID: {truck_id}\")\n",
        "    else:\n",
        "        st.error(\"Please enter a Truck ID.\")\n",
        "\n",
        "# Display historical data for all trucks\n",
        "st.title('Historical Truck Telemetry Data')\n",
        "\n",
        "# Query DynamoDB table to fetch all telemetry data\n",
        "response = table.scan()\n",
        "\n",
        "# Display data for all trucks\n",
        "if response['Items']:\n",
        "    st.write(\"All Telemetry Data:\")\n",
        "    for item in response['Items']:\n",
        "        st.write(f\"Truck ID: {item['truck_id']}\")\n",
        "        st.json(item)\n",
        "else:\n",
        "    st.warning(\"No historical data found.\")\n"
      ],
      "metadata": {
        "id": "OT5fuovDS_c0",
        "colab": {
          "base_uri": "https://localhost:8080/"
        },
        "outputId": "fa9f66b8-8237-4e4f-ba4a-3d8da1c75b33"
      },
      "execution_count": 19,
      "outputs": [
        {
          "output_type": "stream",
          "name": "stdout",
          "text": [
            "Overwriting app.py\n"
          ]
        }
      ]
    },
    {
      "cell_type": "code",
      "source": [
        "! wget -q -O - ipv4.icanhazip.com\n",
        "! streamlit run app.py & npx localtunnel --port 8501"
      ],
      "metadata": {
        "id": "CqxiNFiPgWie"
      },
      "execution_count": null,
      "outputs": []
    }
  ]
}