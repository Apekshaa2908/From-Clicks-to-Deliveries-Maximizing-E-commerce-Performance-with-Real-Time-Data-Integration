{
  "nbformat": 4,
  "nbformat_minor": 0,
  "metadata": {
    "colab": {
      "provenance": [],
      "authorship_tag": "ABX9TyOSs33r5aMBJLfeaDOgJ4rF",
      "include_colab_link": true
    },
    "kernelspec": {
      "name": "python3",
      "display_name": "Python 3"
    },
    "language_info": {
      "name": "python"
    }
  },
  "cells": [
    {
      "cell_type": "markdown",
      "metadata": {
        "id": "view-in-github",
        "colab_type": "text"
      },
      "source": [
        "<a href=\"https://colab.research.google.com/github/Apekshaa2908/From-Clicks-to-Deliveries-Maximizing-E-commerce-Performance-with-Real-Time-Data-Integration/blob/main/Clicks.ipynb\" target=\"_parent\"><img src=\"https://colab.research.google.com/assets/colab-badge.svg\" alt=\"Open In Colab\"/></a>"
      ]
    },
    {
      "cell_type": "code",
      "execution_count": 1,
      "metadata": {
        "colab": {
          "base_uri": "https://localhost:8080/"
        },
        "id": "gmuIFEgpCRR9",
        "outputId": "0550c5b4-17c9-43e7-fe4e-fd5a6a1a39b8"
      },
      "outputs": [
        {
          "output_type": "stream",
          "name": "stdout",
          "text": [
            "Collecting boto3\n",
            "  Downloading boto3-1.35.21-py3-none-any.whl.metadata (6.6 kB)\n",
            "Collecting botocore<1.36.0,>=1.35.21 (from boto3)\n",
            "  Downloading botocore-1.35.21-py3-none-any.whl.metadata (5.7 kB)\n",
            "Collecting jmespath<2.0.0,>=0.7.1 (from boto3)\n",
            "  Downloading jmespath-1.0.1-py3-none-any.whl.metadata (7.6 kB)\n",
            "Collecting s3transfer<0.11.0,>=0.10.0 (from boto3)\n",
            "  Downloading s3transfer-0.10.2-py3-none-any.whl.metadata (1.7 kB)\n",
            "Requirement already satisfied: python-dateutil<3.0.0,>=2.1 in /usr/local/lib/python3.10/dist-packages (from botocore<1.36.0,>=1.35.21->boto3) (2.8.2)\n",
            "Requirement already satisfied: urllib3!=2.2.0,<3,>=1.25.4 in /usr/local/lib/python3.10/dist-packages (from botocore<1.36.0,>=1.35.21->boto3) (2.0.7)\n",
            "Requirement already satisfied: six>=1.5 in /usr/local/lib/python3.10/dist-packages (from python-dateutil<3.0.0,>=2.1->botocore<1.36.0,>=1.35.21->boto3) (1.16.0)\n",
            "Downloading boto3-1.35.21-py3-none-any.whl (139 kB)\n",
            "\u001b[2K   \u001b[90m━━━━━━━━━━━━━━━━━━━━━━━━━━━━━━━━━━━━━━━━\u001b[0m \u001b[32m139.2/139.2 kB\u001b[0m \u001b[31m1.3 MB/s\u001b[0m eta \u001b[36m0:00:00\u001b[0m\n",
            "\u001b[?25hDownloading botocore-1.35.21-py3-none-any.whl (12.5 MB)\n",
            "\u001b[2K   \u001b[90m━━━━━━━━━━━━━━━━━━━━━━━━━━━━━━━━━━━━━━━━\u001b[0m \u001b[32m12.5/12.5 MB\u001b[0m \u001b[31m52.9 MB/s\u001b[0m eta \u001b[36m0:00:00\u001b[0m\n",
            "\u001b[?25hDownloading jmespath-1.0.1-py3-none-any.whl (20 kB)\n",
            "Downloading s3transfer-0.10.2-py3-none-any.whl (82 kB)\n",
            "\u001b[2K   \u001b[90m━━━━━━━━━━━━━━━━━━━━━━━━━━━━━━━━━━━━━━━━\u001b[0m \u001b[32m82.7/82.7 kB\u001b[0m \u001b[31m4.4 MB/s\u001b[0m eta \u001b[36m0:00:00\u001b[0m\n",
            "\u001b[?25hInstalling collected packages: jmespath, botocore, s3transfer, boto3\n",
            "Successfully installed boto3-1.35.21 botocore-1.35.21 jmespath-1.0.1 s3transfer-0.10.2\n"
          ]
        }
      ],
      "source": [
        "!pip install boto3"
      ]
    },
    {
      "cell_type": "code",
      "source": [
        "## Table creation\n",
        "import boto3\n",
        "\n",
        "# Initialize a session using Amazon DynamoDB\n",
        "session = boto3.Session(\n",
        "    region_name='ap-southeast-2',\n",
        "    aws_access_key_id='id',\n",
        "    aws_secret_access_key='key'\n",
        ")\n",
        "\n",
        "# Initialize the DynamoDB resource\n",
        "dynamodb = session.resource('dynamodb')\n",
        "\n",
        "# Create the DynamoDB table\n",
        "table = dynamodb.create_table(\n",
        "    TableName='Clicks',\n",
        "    KeySchema=[\n",
        "        {\n",
        "            'AttributeName': 'item_id',  # Partition Key\n",
        "            'KeyType': 'HASH'  # Partition key\n",
        "        }\n",
        "    ],\n",
        "    AttributeDefinitions=[\n",
        "        {\n",
        "            'AttributeName': 'item_id',  # Partition Key type\n",
        "            'AttributeType': 'S'  # S = String\n",
        "        }\n",
        "    ],\n",
        "    ProvisionedThroughput={\n",
        "        'ReadCapacityUnits': 5,\n",
        "        'WriteCapacityUnits': 5\n",
        "    }\n",
        ")\n",
        "\n",
        "# Wait until the table exists\n",
        "table.meta.client.get_waiter('table_exists').wait(TableName='Clicks')\n",
        "\n",
        "print(\"Table created successfully!\")\n"
      ],
      "metadata": {
        "id": "JPUnV5caLdip"
      },
      "execution_count": null,
      "outputs": []
    },
    {
      "cell_type": "code",
      "source": [
        "## Generation of data\n",
        "import boto3\n",
        "import json\n",
        "import random\n",
        "import time\n",
        "from datetime import datetime\n",
        "\n",
        "# Creating a session for Kinesis\n",
        "session = boto3.Session(\n",
        "   region_name='ap-southeast-2',\n",
        "    aws_access_key_id='id',\n",
        "    aws_secret_access_key='key'\n",
        ")\n",
        "\n",
        "client = session.client('kinesis')\n",
        "\n",
        "# Sample data to stimulate live stream\n",
        "products = [\n",
        "    {\"item_id\": \"ITEM001\", \"item_name\": \"Mobile Phone\"},\n",
        "    {\"item_id\": \"ITEM002\", \"item_name\": \"Laptop\"},\n",
        "    {\"item_id\": \"ITEM003\", \"item_name\": \"Camera\"}\n",
        "]\n",
        "\n",
        "# Adding click counts and timestamp to data\n",
        "while True:\n",
        "    for product in products:\n",
        "        Click_Counts = random.randint(10, 100)\n",
        "        payload = {\n",
        "            \"item_id\": product[\"item_id\"],\n",
        "            \"item_name\": product[\"item_name\"],\n",
        "            \"click_counts\": Click_Counts,\n",
        "            \"timestamp\": datetime.now().isoformat()\n",
        "        }\n",
        "\n",
        "        # Streaming the data into Kinesis\n",
        "        response = client.put_record(\n",
        "            StreamName='ClickstreamDataStream',\n",
        "            PartitionKey=product[\"item_id\"],  # Use the item ID as the partition key\n",
        "            Data=json.dumps(payload).encode('utf-8')\n",
        "        )\n",
        "\n",
        "        print(f'Sent data to Kinesis: {payload}')"
      ],
      "metadata": {
        "id": "W6gfxCglTOsQ"
      },
      "execution_count": null,
      "outputs": []
    }
  ]
}