{
  "nbformat": 4,
  "nbformat_minor": 0,
  "metadata": {
    "colab": {
      "provenance": [],
      "authorship_tag": "ABX9TyNW1pXd3OBqAYWZzxdjsSr6",
      "include_colab_link": true
    },
    "kernelspec": {
      "name": "python3",
      "display_name": "Python 3"
    },
    "language_info": {
      "name": "python"
    }
  },
  "cells": [
    {
      "cell_type": "markdown",
      "metadata": {
        "id": "view-in-github",
        "colab_type": "text"
      },
      "source": [
        "<a href=\"https://colab.research.google.com/github/Apekshaa2908/From-Clicks-to-Deliveries-Maximizing-E-commerce-Performance-with-Real-Time-Data-Integration/blob/main/Trucks.ipynb\" target=\"_parent\"><img src=\"https://colab.research.google.com/assets/colab-badge.svg\" alt=\"Open In Colab\"/></a>"
      ]
    },
    {
      "cell_type": "code",
      "source": [
        "!pip install boto3"
      ],
      "metadata": {
        "colab": {
          "base_uri": "https://localhost:8080/"
        },
        "id": "1IN-kHXQ4rbC",
        "outputId": "fe965d79-6fc1-4cdd-86bb-0f4d81e16970"
      },
      "execution_count": 2,
      "outputs": [
        {
          "output_type": "stream",
          "name": "stdout",
          "text": [
            "Requirement already satisfied: boto3 in /usr/local/lib/python3.10/dist-packages (1.35.21)\n",
            "Requirement already satisfied: botocore<1.36.0,>=1.35.21 in /usr/local/lib/python3.10/dist-packages (from boto3) (1.35.21)\n",
            "Requirement already satisfied: jmespath<2.0.0,>=0.7.1 in /usr/local/lib/python3.10/dist-packages (from boto3) (1.0.1)\n",
            "Requirement already satisfied: s3transfer<0.11.0,>=0.10.0 in /usr/local/lib/python3.10/dist-packages (from boto3) (0.10.2)\n",
            "Requirement already satisfied: python-dateutil<3.0.0,>=2.1 in /usr/local/lib/python3.10/dist-packages (from botocore<1.36.0,>=1.35.21->boto3) (2.8.2)\n",
            "Requirement already satisfied: urllib3!=2.2.0,<3,>=1.25.4 in /usr/local/lib/python3.10/dist-packages (from botocore<1.36.0,>=1.35.21->boto3) (2.0.7)\n",
            "Requirement already satisfied: six>=1.5 in /usr/local/lib/python3.10/dist-packages (from python-dateutil<3.0.0,>=2.1->botocore<1.36.0,>=1.35.21->boto3) (1.16.0)\n"
          ]
        }
      ]
    },
    {
      "cell_type": "code",
      "source": [
        "import boto3\n",
        "\n",
        "# Initialize DynamoDB resource\n",
        "dynamodb = boto3.resource('dynamodb',region_name='ap-southeast-2',\n",
        "    aws_access_key_id=aws_access_key_id,\n",
        "    aws_secret_access_key=aws_secret_access_key)\n",
        "\n",
        "# Create the table with Truck_ID as partition key and Effective_Date as sort key\n",
        "table_name = 'TrucksData'\n",
        "table = dynamodb.create_table(\n",
        "    TableName=table_name,\n",
        "    KeySchema=[\n",
        "        {'AttributeName': 'Truck_ID', 'KeyType': 'HASH'},  # Partition key\n",
        "        {'AttributeName': 'Effective_Date', 'KeyType': 'RANGE'}  # Sort key\n",
        "    ],\n",
        "    AttributeDefinitions=[\n",
        "        {'AttributeName': 'Truck_ID', 'AttributeType': 'S'},\n",
        "        {'AttributeName': 'Effective_Date', 'AttributeType': 'S'}\n",
        "    ],\n",
        "    ProvisionedThroughput={\n",
        "        'ReadCapacityUnits': 5,\n",
        "        'WriteCapacityUnits': 5\n",
        "    }\n",
        ")\n",
        "\n",
        "# Wait until the table exists before proceeding\n",
        "table.meta.client.get_waiter('table_exists').wait(TableName=table_name)\n",
        "print(f\"Table {table_name} created successfully.\")\n"
      ],
      "metadata": {
        "colab": {
          "base_uri": "https://localhost:8080/"
        },
        "id": "UphCS1MhXEfg",
        "outputId": "056be5f7-2035-49c8-84fe-82bd948c3eb0"
      },
      "execution_count": 8,
      "outputs": [
        {
          "output_type": "stream",
          "name": "stdout",
          "text": [
            "Table TrucksData created successfully.\n"
          ]
        }
      ]
    },
    {
      "cell_type": "code",
      "source": [
        "# Lambda Code\n",
        "import json\n",
        "import boto3\n",
        "from datetime import datetime\n",
        "from decimal import Decimal\n",
        "\n",
        "def lambda_handler(event, context):\n",
        "    try:\n",
        "        if 'body' in event:\n",
        "            # Parse the body as JSON\n",
        "            body = json.loads(event['body'], parse_float=Decimal)\n",
        "\n",
        "            # Initialize DynamoDB\n",
        "            dynamodb = boto3.resource('dynamodb')\n",
        "            table = dynamodb.Table('TrucksData')\n",
        "\n",
        "            # Track Expiration Dates for old records\n",
        "            Expiration_date = dict()\n",
        "            for truck in body.get(\"trucks\", []):\n",
        "                Expiration_date[truck[\"Truck_ID\"]] = truck[\"Effective_Date\"]\n",
        "\n",
        "            truck_ids = [\"TRK001\", \"TRK002\", \"TRK003\"]\n",
        "\n",
        "            # Query and update existing records (SCD Type 2)\n",
        "            for truck_id in truck_ids:\n",
        "                response = table.query(\n",
        "                    KeyConditionExpression=\"Truck_ID = :truck_id\",\n",
        "                    FilterExpression=\"is_active = :active\",\n",
        "                    ExpressionAttributeValues={':truck_id': truck_id, ':active': True}\n",
        "                )\n",
        "\n",
        "                if response['Items']:\n",
        "                    current_record = response['Items'][0]\n",
        "                    table.update_item(\n",
        "                        Key={'Truck_ID': truck_id, 'Effective_Date': current_record[\"Effective_Date\"]},\n",
        "                        UpdateExpression='SET Expiration_Date = :d, is_active = :a',\n",
        "                        ExpressionAttributeValues={':d': Expiration_date[truck_id], ':a': False}\n",
        "                    )\n",
        "\n",
        "            # Insert new records\n",
        "            for data in body.get(\"trucks\", []):\n",
        "                table.put_item(Item=data)\n",
        "\n",
        "            return {\n",
        "                'statusCode': 200,\n",
        "                'body': json.dumps({\"message\": \"Data successfully updated\"})\n",
        "            }\n",
        "        else:\n",
        "            return {\n",
        "                'statusCode': 400,\n",
        "                'body': json.dumps({\"message\": \"No body found in the request\"})\n",
        "            }\n",
        "    except Exception as e:\n",
        "        return {\n",
        "            'statusCode': 500,\n",
        "            'body': json.dumps(f'Error: {str(e)}')\n",
        "        }\n"
      ],
      "metadata": {
        "id": "sxPAdCjGeC4D"
      },
      "execution_count": null,
      "outputs": []
    },
    {
      "cell_type": "code",
      "source": [
        "import json\n",
        "import random\n",
        "import time\n",
        "import requests\n",
        "from datetime import datetime\n",
        "\n",
        "# API Gateway URL (replace with your actual API Gateway endpoint)\n",
        "API_URL = 'API Gateway URL'\n",
        "\n",
        "# Sample truck IDs\n",
        "truck_ids = [\"TRK001\", \"TRK002\", \"TRK003\"]\n",
        "\n",
        "# Function to generate random GPS location data\n",
        "def generate_gps_location():\n",
        "    return {\n",
        "        \"latitude\": round(random.uniform(-90.0, 90.0), 6),\n",
        "        \"longitude\": round(random.uniform(-180.0, 180.0), 6),\n",
        "        \"altitude\": round(random.uniform(0, 1000), 2),\n",
        "        \"speed\": random.randint(0, 120)  # Vehicle speed in km/h\n",
        "    }\n",
        "\n",
        "# Function to generate random engine diagnostics data\n",
        "def generate_engine_diagnostics():\n",
        "    return {\n",
        "        \"engine_rpm\": random.randint(500, 3000),\n",
        "        \"fuel_level\": round(random.uniform(0, 100), 2),\n",
        "        \"temperature\": random.randint(60, 120),  # Engine temperature in degrees Celsius\n",
        "        \"oil_pressure\": round(random.uniform(20, 50), 2),\n",
        "        \"battery_voltage\": round(random.uniform(11.5, 14.5), 2)\n",
        "    }\n",
        "\n",
        "# Function to generate random vehicle health and maintenance data\n",
        "def generate_vehicle_health():\n",
        "    return {\n",
        "        \"brake_status\": random.choice([\"Good\", \"Worn\", \"Replace\"]),\n",
        "        \"tire_pressure\": {\n",
        "            \"front_left\": round(random.uniform(30, 35), 2),\n",
        "            \"front_right\": round(random.uniform(30, 35), 2),\n",
        "            \"rear_left\": round(random.uniform(30, 35), 2),\n",
        "            \"rear_right\": round(random.uniform(30, 35), 2)\n",
        "        },\n",
        "        \"transmission_status\": random.choice([\"Operational\", \"Needs Service\", \"Faulty\"])\n",
        "    }\n",
        "\n",
        "# Function to generate random environmental conditions\n",
        "def generate_environmental_conditions():\n",
        "    return {\n",
        "        \"temperature\": random.randint(-20, 50),  # Temperature in Celsius\n",
        "        \"humidity\": random.randint(0, 100),  # Humidity percentage\n",
        "        \"atmospheric_pressure\": random.randint(900, 1100)  # Atmospheric pressure in hPa\n",
        "    }\n",
        "\n",
        "# Function to generate telemetry data for a truck\n",
        "def generate_truck_data(truck_id):\n",
        "    return {\n",
        "        \"Truck_ID\": truck_id,\n",
        "        \"gps_location\": generate_gps_location(),\n",
        "        \"vehicle_speed\": random.randint(0, 120),  # Vehicle speed in km/h\n",
        "        \"engine_diagnostics\": generate_engine_diagnostics(),\n",
        "        \"odometer_reading\": round(random.uniform(50000, 150000), 2),  # Odometer reading in km\n",
        "        \"fuel_consumption\": round(random.uniform(5, 20), 2),  # Fuel consumption in liters/100km\n",
        "        \"vehicle_health_and_maintenance\": generate_vehicle_health(),\n",
        "        \"environmental_conditions\": generate_environmental_conditions(),\n",
        "        \"Effective_Date\": datetime.now().isoformat(),\n",
        "        \"Expiration_Date\": None,\n",
        "        \"is_active\": True\n",
        "    }\n",
        "\n",
        "# Function to send data to the API endpoint\n",
        "def send_truck_data(data):\n",
        "    headers = {'Content-Type': 'application/json'}\n",
        "    response = requests.post(API_URL, headers=headers, data=json.dumps(data))\n",
        "    return response.status_code, response.text\n",
        "\n",
        "# Generate and send truck telemetry data every minute\n",
        "if __name__ == \"__main__\":\n",
        "    try:\n",
        "        while True:\n",
        "            telemetry_data = {\"trucks\": [generate_truck_data(truck_id) for truck_id in truck_ids]}\n",
        "            status_code, response_text = send_truck_data(telemetry_data)\n",
        "            print(f\"Status: {status_code}, Response: {response_text}\")\n",
        "            time.sleep(60)  # Sleep for 1 minute before sending the next batch\n",
        "    except KeyboardInterrupt:\n",
        "        print(\"Data generation stopped.\")\n"
      ],
      "metadata": {
        "colab": {
          "base_uri": "https://localhost:8080/"
        },
        "id": "HU3KCvjMZV3m",
        "outputId": "48a3d188-0d43-49ff-dfc6-720e25a4fff1"
      },
      "execution_count": 14,
      "outputs": [
        {
          "output_type": "stream",
          "name": "stdout",
          "text": [
            "Status: 200, Response: {\"message\": \"Data successfully updated\"}\n",
            "Data generation stopped.\n"
          ]
        }
      ]
    },
    {
      "cell_type": "code",
      "source": [],
      "metadata": {
        "id": "7vT1wKetaBI_"
      },
      "execution_count": null,
      "outputs": []
    }
  ]
}